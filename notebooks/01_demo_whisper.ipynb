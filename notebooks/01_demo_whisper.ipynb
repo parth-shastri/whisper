{
 "cells": [
  {
   "cell_type": "code",
   "execution_count": 1,
   "metadata": {},
   "outputs": [],
   "source": [
    "from transformers import WhisperForConditionalGeneration, WhisperModel, WhisperProcessor, WhisperTokenizer\n",
    "from datasets import load\n",
    "import evaluate"
   ]
  }
 ],
 "metadata": {
  "kernelspec": {
   "display_name": "Python 3.8.13 ('whisper')",
   "language": "python",
   "name": "python3"
  },
  "language_info": {
   "codemirror_mode": {
    "name": "ipython",
    "version": 3
   },
   "file_extension": ".py",
   "mimetype": "text/x-python",
   "name": "python",
   "nbconvert_exporter": "python",
   "pygments_lexer": "ipython3",
   "version": "3.8.13"
  },
  "orig_nbformat": 4,
  "vscode": {
   "interpreter": {
    "hash": "56545d1c32ae8ee381b6f2c81d6581cbac3ef82f2b2a23b53f036574d8bd0b73"
   }
  }
 },
 "nbformat": 4,
 "nbformat_minor": 2
}
