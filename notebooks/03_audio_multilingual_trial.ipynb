{
 "cells": [
  {
   "cell_type": "code",
   "execution_count": 13,
   "metadata": {},
   "outputs": [],
   "source": [
    "from transformers import WhisperForConditionalGeneration, WhisperProcessor, WhisperFeatureExtractor, WhisperTokenizer\n",
    "import numpy as np\n",
    "import torch\n",
    "import librosa"
   ]
  },
  {
   "cell_type": "code",
   "execution_count": 14,
   "metadata": {},
   "outputs": [],
   "source": [
    "MODEL_NAME = \"openai/whisper-medium\"\n",
    "model = WhisperForConditionalGeneration.from_pretrained(MODEL_NAME)\n",
    "processor = WhisperProcessor.from_pretrained(MODEL_NAME)\n",
    "feature_extractor = WhisperFeatureExtractor.from_pretrained(MODEL_NAME)\n",
    "tokenizer = WhisperTokenizer.from_pretrained(MODEL_NAME)"
   ]
  },
  {
   "cell_type": "code",
   "execution_count": 8,
   "metadata": {},
   "outputs": [],
   "source": [
    "# read the audio and make it an array\n",
    "\n",
    "audio_array, sample_rate = librosa.load(r\"D:\\Users\\shast\\PycharmProjects\\whisper\\data\\intellimek_data\\new_mic_20221110162954.wav\", sr=16000)"
   ]
  },
  {
   "cell_type": "code",
   "execution_count": 10,
   "metadata": {},
   "outputs": [
    {
     "name": "stdout",
     "output_type": "stream",
     "text": [
      "(132000,)\n",
      "[[0.0273807  0.04768861 0.04198334 ... 0.11424087 0.11148623 0.11817852]] => (1, 132000)\n"
     ]
    }
   ],
   "source": [
    "print(audio_array.shape)\n",
    "batched_audio_array = np.expand_dims(audio_array, axis=0)\n",
    "print(batched_audio_array, \"=>\", batched_audio_array.shape)"
   ]
  },
  {
   "cell_type": "code",
   "execution_count": 21,
   "metadata": {},
   "outputs": [
    {
     "data": {
      "text/plain": [
       "torch.Size([1, 80, 3000])"
      ]
     },
     "execution_count": 21,
     "metadata": {},
     "output_type": "execute_result"
    }
   ],
   "source": [
    "# extracted_features = processor(audio=batched_audio_array, return_tensors=\"pt\", sampling_rate=16000)\n",
    "# extracted_features.shape\n",
    "\n",
    "extracted_features = feature_extractor(audio_array, truncation=True, return_tensors=\"pt\", sampling_rate=16000).input_features\n",
    "extracted_features.shape"
   ]
  },
  {
   "cell_type": "code",
   "execution_count": 32,
   "metadata": {},
   "outputs": [
    {
     "name": "stdout",
     "output_type": "stream",
     "text": [
      "[(1, 50320), (2, 50358), (3, 50363)]\n"
     ]
    }
   ],
   "source": [
    "decoder_input_ids = processor.get_decoder_prompt_ids(task=\"translate\", language=\"mr\")\n",
    "print(decoder_input_ids)"
   ]
  },
  {
   "cell_type": "code",
   "execution_count": 33,
   "metadata": {},
   "outputs": [],
   "source": [
    "logits = model.generate(extracted_features, forced_decoder_ids=decoder_input_ids)"
   ]
  },
  {
   "cell_type": "code",
   "execution_count": 34,
   "metadata": {},
   "outputs": [
    {
     "name": "stdout",
     "output_type": "stream",
     "text": [
      "['<|startoftranscript|><|mr|><|translate|><|notimestamps|> What is this cold thing?<|endoftext|>']\n"
     ]
    }
   ],
   "source": [
    "transcription = processor.batch_decode(logits)\n",
    "print(transcription)"
   ]
  }
 ],
 "metadata": {
  "kernelspec": {
   "display_name": "Python 3.8.13",
   "language": "python",
   "name": "python3"
  },
  "language_info": {
   "codemirror_mode": {
    "name": "ipython",
    "version": 3
   },
   "file_extension": ".py",
   "mimetype": "text/x-python",
   "name": "python",
   "nbconvert_exporter": "python",
   "pygments_lexer": "ipython3",
   "version": "3.8.13"
  },
  "orig_nbformat": 4,
  "vscode": {
   "interpreter": {
    "hash": "dbeb86e5169ae12036faefecf25111d7a89a44034aadf5555bd66a4cc67a8a73"
   }
  }
 },
 "nbformat": 4,
 "nbformat_minor": 2
}
