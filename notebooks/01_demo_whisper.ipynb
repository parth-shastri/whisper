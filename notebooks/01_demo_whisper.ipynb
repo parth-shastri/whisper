{
 "cells": [
  {
   "cell_type": "code",
   "execution_count": 12,
   "metadata": {},
   "outputs": [],
   "source": [
    "from transformers import WhisperForConditionalGeneration, WhisperModel, WhisperProcessor, WhisperTokenizer\n",
    "from datasets import load_dataset\n",
    "import evaluate\n",
    "import torch"
   ]
  },
  {
   "cell_type": "code",
   "execution_count": 4,
   "metadata": {},
   "outputs": [
    {
     "name": "stderr",
     "output_type": "stream",
     "text": [
      "Downloading: 100%|██████████| 1.98k/1.98k [00:00<00:00, 3.86MB/s]\n",
      "d:\\Users\\shast\\envs\\whisper_env\\lib\\site-packages\\huggingface_hub\\file_download.py:123: UserWarning: `huggingface_hub` cache-system uses symlinks by default to efficiently store duplicated files but your machine does not support them in C:\\Users\\shast\\.cache\\huggingface\\hub. Caching files will still work but in a degraded version that might require more space on your disk. This warning can be disabled by setting the `HF_HUB_DISABLE_SYMLINKS_WARNING` environment variable. For more details, see https://huggingface.co/docs/huggingface_hub/how-to-cache#limitations.\n",
      "To support symlinks on Windows, you either need to activate Developer Mode or to run Python as an administrator. In order to see activate developer mode, see this article: https://docs.microsoft.com/en-us/windows/apps/get-started/enable-your-device-for-development\n",
      "  warnings.warn(message)\n",
      "Downloading: 100%|██████████| 3.06G/3.06G [06:57<00:00, 7.32MB/s]   \n"
     ]
    }
   ],
   "source": [
    "transcribe_model = WhisperForConditionalGeneration.from_pretrained(\"openai/whisper-medium\")"
   ]
  },
  {
   "cell_type": "code",
   "execution_count": 5,
   "metadata": {},
   "outputs": [
    {
     "name": "stderr",
     "output_type": "stream",
     "text": [
      "Downloading: 100%|██████████| 185k/185k [00:00<00:00, 213kB/s]  \n",
      "Downloading: 100%|██████████| 830/830 [00:00<00:00, 700kB/s]\n",
      "Downloading: 100%|██████████| 1.04M/1.04M [00:02<00:00, 347kB/s]\n",
      "Downloading: 100%|██████████| 494k/494k [00:01<00:00, 267kB/s]  \n",
      "Downloading: 100%|██████████| 52.7k/52.7k [00:00<00:00, 103kB/s] \n",
      "Downloading: 100%|██████████| 2.11k/2.11k [00:00<00:00, 224kB/s]\n",
      "Downloading: 100%|██████████| 2.06k/2.06k [00:00<?, ?B/s]\n"
     ]
    }
   ],
   "source": [
    "# Processor is the mixture of the FeatrueExtractor and tokenizer for the whisper model\n",
    "processor = WhisperProcessor.from_pretrained(\"openai/whisper-medium\")"
   ]
  },
  {
   "cell_type": "code",
   "execution_count": 10,
   "metadata": {},
   "outputs": [
    {
     "name": "stderr",
     "output_type": "stream",
     "text": [
      "Found cached dataset librispeech_asr_dummy (C:/Users/shast/.cache/huggingface/datasets/hf-internal-testing___librispeech_asr_dummy/clean/2.1.0/d3bc4c2bc2078fcde3ad0f0f635862e4c0fef78ba94c4a34c4c250a097af240b)\n"
     ]
    },
    {
     "name": "stdout",
     "output_type": "stream",
     "text": [
      "{'file': 'C:/Users/shast/.cache/huggingface/datasets/downloads/extracted/f479719f1bfb9350a98b166fb01ab5165fb756f54dc5c62e15bf9eb6d555a0bc/dev_clean/1272/128104/1272-128104-0000.flac', 'audio': {'path': 'C:/Users/shast/.cache/huggingface/datasets/downloads/extracted/f479719f1bfb9350a98b166fb01ab5165fb756f54dc5c62e15bf9eb6d555a0bc/dev_clean/1272/128104/1272-128104-0000.flac', 'array': array([0.00238037, 0.0020752 , 0.00198364, ..., 0.00042725, 0.00057983,\n",
      "       0.0010376 ], dtype=float32), 'sampling_rate': 16000}, 'text': 'MISTER QUILTER IS THE APOSTLE OF THE MIDDLE CLASSES AND WE ARE GLAD TO WELCOME HIS GOSPEL', 'speaker_id': 1272, 'chapter_id': 128104, 'id': '1272-128104-0000'}\n"
     ]
    }
   ],
   "source": [
    "ds = load_dataset(\"hf-internal-testing/librispeech_asr_dummy\", \"clean\", split=\"validation\")\n",
    "print(ds[0])"
   ]
  },
  {
   "cell_type": "code",
   "execution_count": 11,
   "metadata": {},
   "outputs": [
    {
     "name": "stderr",
     "output_type": "stream",
     "text": [
      "It is strongly recommended to pass the `sampling_rate` argument to this function. Failing to do so can result in silent errors that might be hard to debug.\n"
     ]
    }
   ],
   "source": [
    "input_features = processor(ds[0][\"audio\"][\"array\"], return_tensors=\"pt\").input_features\n"
   ]
  },
  {
   "cell_type": "code",
   "execution_count": 13,
   "metadata": {},
   "outputs": [],
   "source": [
    "logits = transcribe_model(input_features, decoder_input_ids=torch.tensor([50258])).logits\n"
   ]
  },
  {
   "cell_type": "code",
   "execution_count": 14,
   "metadata": {},
   "outputs": [
    {
     "name": "stdout",
     "output_type": "stream",
     "text": [
      "torch.Size([1, 1, 51865])\n"
     ]
    }
   ],
   "source": [
    "print(logits.shape)\n",
    "predicted_ids = torch.argmax(logits, dim=-1)\n",
    "transcription = processor.batch_decode(predicted_ids)"
   ]
  },
  {
   "cell_type": "code",
   "execution_count": 20,
   "metadata": {},
   "outputs": [
    {
     "name": "stdout",
     "output_type": "stream",
     "text": [
      "['<|en|>']\n"
     ]
    },
    {
     "ename": "AttributeError",
     "evalue": "'str' object has no attribute 'tokenizer'",
     "output_type": "error",
     "traceback": [
      "\u001b[1;31m---------------------------------------------------------------------------\u001b[0m",
      "\u001b[1;31mAttributeError\u001b[0m                            Traceback (most recent call last)",
      "Cell \u001b[1;32mIn [20], line 2\u001b[0m\n\u001b[0;32m      1\u001b[0m \u001b[39mprint\u001b[39m(transcription)\n\u001b[1;32m----> 2\u001b[0m \u001b[39mprint\u001b[39m(WhisperProcessor\u001b[39m.\u001b[39;49mget_decoder_prompt_ids(\u001b[39m\"\u001b[39;49m\u001b[39mtranslation\u001b[39;49m\u001b[39m\"\u001b[39;49m))\n",
      "File \u001b[1;32md:\\Users\\shast\\envs\\whisper_env\\lib\\site-packages\\transformers\\models\\whisper\\processing_whisper.py:73\u001b[0m, in \u001b[0;36mWhisperProcessor.get_decoder_prompt_ids\u001b[1;34m(self, task, language, no_timestamps)\u001b[0m\n\u001b[0;32m     70\u001b[0m     forced_decoder_tokens \u001b[39m+\u001b[39m\u001b[39m=\u001b[39m \u001b[39mf\u001b[39m\u001b[39m\"\u001b[39m\u001b[39m<|\u001b[39m\u001b[39m{\u001b[39;00mtask\u001b[39m}\u001b[39;00m\u001b[39m|>\u001b[39m\u001b[39m\"\u001b[39m\n\u001b[0;32m     72\u001b[0m forced_decoder_tokens \u001b[39m+\u001b[39m\u001b[39m=\u001b[39m \u001b[39m\"\u001b[39m\u001b[39m<|notimestamps|>\u001b[39m\u001b[39m\"\u001b[39m \u001b[39mif\u001b[39;00m no_timestamps \u001b[39melse\u001b[39;00m \u001b[39m\"\u001b[39m\u001b[39m\"\u001b[39m\n\u001b[1;32m---> 73\u001b[0m ids \u001b[39m=\u001b[39m \u001b[39mself\u001b[39;49m\u001b[39m.\u001b[39;49mtokenizer\u001b[39m.\u001b[39mencode(forced_decoder_tokens)\n\u001b[0;32m     74\u001b[0m forced_decoder_ids \u001b[39m=\u001b[39m [(rank \u001b[39m+\u001b[39m \u001b[39m1\u001b[39m, token) \u001b[39mfor\u001b[39;00m rank, token \u001b[39min\u001b[39;00m \u001b[39menumerate\u001b[39m(ids)]\n\u001b[0;32m     75\u001b[0m \u001b[39mreturn\u001b[39;00m forced_decoder_ids\n",
      "\u001b[1;31mAttributeError\u001b[0m: 'str' object has no attribute 'tokenizer'"
     ]
    }
   ],
   "source": [
    "print(transcription)"
   ]
  }
 ],
 "metadata": {
  "kernelspec": {
   "display_name": "Python 3.8.13",
   "language": "python",
   "name": "python3"
  },
  "language_info": {
   "codemirror_mode": {
    "name": "ipython",
    "version": 3
   },
   "file_extension": ".py",
   "mimetype": "text/x-python",
   "name": "python",
   "nbconvert_exporter": "python",
   "pygments_lexer": "ipython3",
   "version": "3.8.13"
  },
  "orig_nbformat": 4,
  "vscode": {
   "interpreter": {
    "hash": "dbeb86e5169ae12036faefecf25111d7a89a44034aadf5555bd66a4cc67a8a73"
   }
  }
 },
 "nbformat": 4,
 "nbformat_minor": 2
}
